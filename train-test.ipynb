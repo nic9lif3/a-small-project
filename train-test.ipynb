{
 "cells": [
  {
   "cell_type": "code",
   "execution_count": 2,
   "metadata": {},
   "outputs": [],
   "source": [
    "import pandas as pd\n",
    "import numpy as np\n",
    "from sklearn.svm import SVC\n",
    "from sklearn.metrics import classification_report\n",
    "from tqdm import tqdm"
   ]
  },
  {
   "cell_type": "code",
   "execution_count": 2,
   "metadata": {},
   "outputs": [],
   "source": [
    "a1=pd.read_csv('testing.csv')\n",
    "a2=pd.read_csv('trainning.csv')"
   ]
  },
  {
   "cell_type": "code",
   "execution_count": 12,
   "metadata": {},
   "outputs": [],
   "source": [
    "accept1=[]\n",
    "accept2=[]\n",
    "\n",
    "for key in a1.keys():\n",
    "    if len(np.unique(a1[key]))>1:\n",
    "        accept1.append(key)\n",
    "for key in a2.keys():\n",
    "    if len(np.unique(a2[key]))>1:\n",
    "        accept2.append(key)       "
   ]
  },
  {
   "cell_type": "code",
   "execution_count": 177,
   "metadata": {},
   "outputs": [],
   "source": [
    "def normarlize(length):\n",
    "    return (length-length.mean())/length.std(),length.mean(),length.std()"
   ]
  },
  {
   "cell_type": "code",
   "execution_count": 220,
   "metadata": {
    "scrolled": true
   },
   "outputs": [
    {
     "name": "stderr",
     "output_type": "stream",
     "text": [
      "100%|██████████████████████████████████████████████████████████████████████████████████| 45/45 [00:00<00:00, 84.34it/s]\n"
     ]
    }
   ],
   "source": [
    "b=list()\n",
    "des=list()\n",
    "for key in tqdm(sorted(accept2)):\n",
    "    if a2[key].dtype=='int64' or a2[key].dtype=='float64':\n",
    "        nm,mean,std=normarlize(a2[key])\n",
    "        nm=np.expand_dims(nm.tolist(),0).T\n",
    "        des.append([mean,std])\n",
    "    elif a2[key].dtype=='O':\n",
    "        uni=a2[key].unique()\n",
    "        l=len(uni)\n",
    "        if '-1' in uni:\n",
    "            l-=1\n",
    "        nm=np.zeros((len(a2[key]),l))\n",
    "        uni=np.delete(uni,np.argwhere(uni=='-1'))\n",
    "        uni=dict(zip(uni,list(range(len(uni)))))\n",
    "        des.append(uni)\n",
    "        for i,n in enumerate(a2[key]):\n",
    "            try:\n",
    "                nm[i,uni[n]]=1\n",
    "            except:\n",
    "                continue  \n",
    "    else:\n",
    "        continue\n",
    "    b.append(nm)    "
   ]
  },
  {
   "cell_type": "code",
   "execution_count": 229,
   "metadata": {},
   "outputs": [],
   "source": [
    "data_train=np.concatenate(b,axis=1)"
   ]
  },
  {
   "cell_type": "code",
   "execution_count": 3,
   "metadata": {},
   "outputs": [],
   "source": [
    "svclassifier =SVC(kernel='linear')\n",
    "# svclassifier.fit(data_train,a2.label)"
   ]
  },
  {
   "cell_type": "code",
   "execution_count": null,
   "metadata": {},
   "outputs": [],
   "source": [
    "pred=svclassifier.predict(data_train)\n",
    "print(classification_report(a2.label, pred))"
   ]
  },
  {
   "cell_type": "code",
   "execution_count": null,
   "metadata": {},
   "outputs": [],
   "source": []
  }
 ],
 "metadata": {
  "kernelspec": {
   "display_name": "Python 3",
   "language": "python",
   "name": "python3"
  },
  "language_info": {
   "codemirror_mode": {
    "name": "ipython",
    "version": 3
   },
   "file_extension": ".py",
   "mimetype": "text/x-python",
   "name": "python",
   "nbconvert_exporter": "python",
   "pygments_lexer": "ipython3",
   "version": "3.6.6"
  }
 },
 "nbformat": 4,
 "nbformat_minor": 2
}
